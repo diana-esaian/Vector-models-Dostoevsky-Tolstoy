{
 "cells": [
  {
   "cell_type": "markdown",
   "id": "21442ff4",
   "metadata": {},
   "source": [
    "## 1. Загружаем корпус 1:\n",
    "\n",
    "Корпус *Dostoyevsky* состоит из романов, рассказов и повестей Ф.М. Достоевского и весит **20,4 МБ**"
   ]
  },
  {
   "cell_type": "code",
   "execution_count": 1,
   "id": "ce5ff7ab",
   "metadata": {},
   "outputs": [],
   "source": [
    "filename = 'Dostoyevsky.txt' \n",
    "with open(filename) as open_file:\n",
    "    text_as_lines = open_file.readlines()"
   ]
  },
  {
   "cell_type": "markdown",
   "id": "9fcf0639",
   "metadata": {},
   "source": [
    "## 2. Предобрабатываем корпус 1:"
   ]
  },
  {
   "cell_type": "code",
   "execution_count": 3,
   "id": "1f3bef38",
   "metadata": {},
   "outputs": [
    {
     "name": "stdout",
     "output_type": "stream",
     "text": [
      "Requirement already satisfied: spacy==3.2 in /opt/anaconda3/lib/python3.8/site-packages (3.2.0)\n",
      "Requirement already satisfied: langcodes<4.0.0,>=3.2.0 in /opt/anaconda3/lib/python3.8/site-packages (from spacy==3.2) (3.3.0)\n",
      "Requirement already satisfied: setuptools in /opt/anaconda3/lib/python3.8/site-packages (from spacy==3.2) (52.0.0.post20210125)\n",
      "Requirement already satisfied: catalogue<2.1.0,>=2.0.6 in /opt/anaconda3/lib/python3.8/site-packages (from spacy==3.2) (2.0.6)\n",
      "Requirement already satisfied: requests<3.0.0,>=2.13.0 in /opt/anaconda3/lib/python3.8/site-packages (from spacy==3.2) (2.25.1)\n",
      "Requirement already satisfied: spacy-legacy<3.1.0,>=3.0.8 in /opt/anaconda3/lib/python3.8/site-packages (from spacy==3.2) (3.0.8)\n",
      "Requirement already satisfied: cymem<2.1.0,>=2.0.2 in /opt/anaconda3/lib/python3.8/site-packages (from spacy==3.2) (2.0.6)\n",
      "Requirement already satisfied: pathy>=0.3.5 in /opt/anaconda3/lib/python3.8/site-packages (from spacy==3.2) (0.6.1)\n",
      "Requirement already satisfied: preshed<3.1.0,>=3.0.2 in /opt/anaconda3/lib/python3.8/site-packages (from spacy==3.2) (3.0.6)\n",
      "Requirement already satisfied: tqdm<5.0.0,>=4.38.0 in /opt/anaconda3/lib/python3.8/site-packages (from spacy==3.2) (4.59.0)\n",
      "Requirement already satisfied: thinc<8.1.0,>=8.0.12 in /opt/anaconda3/lib/python3.8/site-packages (from spacy==3.2) (8.0.13)\n",
      "Requirement already satisfied: jinja2 in /opt/anaconda3/lib/python3.8/site-packages (from spacy==3.2) (2.11.3)\n",
      "Requirement already satisfied: pydantic!=1.8,!=1.8.1,<1.9.0,>=1.7.4 in /opt/anaconda3/lib/python3.8/site-packages (from spacy==3.2) (1.8.2)\n",
      "Requirement already satisfied: wasabi<1.1.0,>=0.8.1 in /opt/anaconda3/lib/python3.8/site-packages (from spacy==3.2) (0.9.0)\n",
      "Requirement already satisfied: spacy-loggers<2.0.0,>=1.0.0 in /opt/anaconda3/lib/python3.8/site-packages (from spacy==3.2) (1.0.2)\n",
      "Requirement already satisfied: blis<0.8.0,>=0.4.0 in /opt/anaconda3/lib/python3.8/site-packages (from spacy==3.2) (0.7.5)\n",
      "Requirement already satisfied: packaging>=20.0 in /opt/anaconda3/lib/python3.8/site-packages (from spacy==3.2) (20.9)\n",
      "Requirement already satisfied: typer<0.5.0,>=0.3.0 in /opt/anaconda3/lib/python3.8/site-packages (from spacy==3.2) (0.4.0)\n",
      "Requirement already satisfied: srsly<3.0.0,>=2.4.1 in /opt/anaconda3/lib/python3.8/site-packages (from spacy==3.2) (2.4.2)\n",
      "Requirement already satisfied: numpy>=1.15.0 in /opt/anaconda3/lib/python3.8/site-packages (from spacy==3.2) (1.20.1)\n",
      "Requirement already satisfied: murmurhash<1.1.0,>=0.28.0 in /opt/anaconda3/lib/python3.8/site-packages (from spacy==3.2) (1.0.6)\n",
      "Requirement already satisfied: pyparsing>=2.0.2 in /opt/anaconda3/lib/python3.8/site-packages (from packaging>=20.0->spacy==3.2) (2.4.7)\n",
      "Requirement already satisfied: smart-open<6.0.0,>=5.0.0 in /opt/anaconda3/lib/python3.8/site-packages (from pathy>=0.3.5->spacy==3.2) (5.2.1)\n",
      "Requirement already satisfied: typing-extensions>=3.7.4.3 in /opt/anaconda3/lib/python3.8/site-packages (from pydantic!=1.8,!=1.8.1,<1.9.0,>=1.7.4->spacy==3.2) (3.7.4.3)\n",
      "Requirement already satisfied: chardet<5,>=3.0.2 in /opt/anaconda3/lib/python3.8/site-packages (from requests<3.0.0,>=2.13.0->spacy==3.2) (4.0.0)\n",
      "Requirement already satisfied: certifi>=2017.4.17 in /opt/anaconda3/lib/python3.8/site-packages (from requests<3.0.0,>=2.13.0->spacy==3.2) (2020.12.5)\n",
      "Requirement already satisfied: urllib3<1.27,>=1.21.1 in /opt/anaconda3/lib/python3.8/site-packages (from requests<3.0.0,>=2.13.0->spacy==3.2) (1.26.4)\n",
      "Requirement already satisfied: idna<3,>=2.5 in /opt/anaconda3/lib/python3.8/site-packages (from requests<3.0.0,>=2.13.0->spacy==3.2) (2.10)\n",
      "Requirement already satisfied: click<9.0.0,>=7.1.1 in /opt/anaconda3/lib/python3.8/site-packages (from typer<0.5.0,>=0.3.0->spacy==3.2) (7.1.2)\n",
      "Requirement already satisfied: MarkupSafe>=0.23 in /opt/anaconda3/lib/python3.8/site-packages (from jinja2->spacy==3.2) (1.1.1)\n"
     ]
    }
   ],
   "source": [
    "!pip install spacy==3.2"
   ]
  },
  {
   "cell_type": "code",
   "execution_count": 4,
   "id": "5299fedd",
   "metadata": {},
   "outputs": [],
   "source": [
    "import spacy\n",
    "from tqdm import tqdm"
   ]
  },
  {
   "cell_type": "code",
   "execution_count": 5,
   "id": "57050d9f",
   "metadata": {},
   "outputs": [
    {
     "name": "stdout",
     "output_type": "stream",
     "text": [
      "Collecting ru-core-news-md==3.2.0\n",
      "  Downloading https://github.com/explosion/spacy-models/releases/download/ru_core_news_md-3.2.0/ru_core_news_md-3.2.0-py3-none-any.whl (43.0 MB)\n",
      "\u001b[K     |████████████████████████████████| 43.0 MB 5.0 MB/s eta 0:00:013\n",
      "\u001b[?25hRequirement already satisfied: pymorphy2>=0.9 in /opt/anaconda3/lib/python3.8/site-packages (from ru-core-news-md==3.2.0) (0.9.1)\n",
      "Requirement already satisfied: spacy<3.3.0,>=3.2.0 in /opt/anaconda3/lib/python3.8/site-packages (from ru-core-news-md==3.2.0) (3.2.0)\n",
      "Requirement already satisfied: pymorphy2-dicts-ru<3.0,>=2.4 in /opt/anaconda3/lib/python3.8/site-packages (from pymorphy2>=0.9->ru-core-news-md==3.2.0) (2.4.417127.4579844)\n",
      "Requirement already satisfied: dawg-python>=0.7.1 in /opt/anaconda3/lib/python3.8/site-packages (from pymorphy2>=0.9->ru-core-news-md==3.2.0) (0.7.2)\n",
      "Requirement already satisfied: docopt>=0.6 in /opt/anaconda3/lib/python3.8/site-packages (from pymorphy2>=0.9->ru-core-news-md==3.2.0) (0.6.2)\n",
      "Requirement already satisfied: packaging>=20.0 in /opt/anaconda3/lib/python3.8/site-packages (from spacy<3.3.0,>=3.2.0->ru-core-news-md==3.2.0) (20.9)\n",
      "Requirement already satisfied: jinja2 in /opt/anaconda3/lib/python3.8/site-packages (from spacy<3.3.0,>=3.2.0->ru-core-news-md==3.2.0) (2.11.3)\n",
      "Requirement already satisfied: murmurhash<1.1.0,>=0.28.0 in /opt/anaconda3/lib/python3.8/site-packages (from spacy<3.3.0,>=3.2.0->ru-core-news-md==3.2.0) (1.0.6)\n",
      "Requirement already satisfied: tqdm<5.0.0,>=4.38.0 in /opt/anaconda3/lib/python3.8/site-packages (from spacy<3.3.0,>=3.2.0->ru-core-news-md==3.2.0) (4.59.0)\n",
      "Requirement already satisfied: thinc<8.1.0,>=8.0.12 in /opt/anaconda3/lib/python3.8/site-packages (from spacy<3.3.0,>=3.2.0->ru-core-news-md==3.2.0) (8.0.13)\n",
      "Requirement already satisfied: pathy>=0.3.5 in /opt/anaconda3/lib/python3.8/site-packages (from spacy<3.3.0,>=3.2.0->ru-core-news-md==3.2.0) (0.6.1)\n",
      "Requirement already satisfied: pydantic!=1.8,!=1.8.1,<1.9.0,>=1.7.4 in /opt/anaconda3/lib/python3.8/site-packages (from spacy<3.3.0,>=3.2.0->ru-core-news-md==3.2.0) (1.8.2)\n",
      "Requirement already satisfied: spacy-legacy<3.1.0,>=3.0.8 in /opt/anaconda3/lib/python3.8/site-packages (from spacy<3.3.0,>=3.2.0->ru-core-news-md==3.2.0) (3.0.8)\n",
      "Requirement already satisfied: blis<0.8.0,>=0.4.0 in /opt/anaconda3/lib/python3.8/site-packages (from spacy<3.3.0,>=3.2.0->ru-core-news-md==3.2.0) (0.7.5)\n",
      "Requirement already satisfied: spacy-loggers<2.0.0,>=1.0.0 in /opt/anaconda3/lib/python3.8/site-packages (from spacy<3.3.0,>=3.2.0->ru-core-news-md==3.2.0) (1.0.2)\n",
      "Requirement already satisfied: preshed<3.1.0,>=3.0.2 in /opt/anaconda3/lib/python3.8/site-packages (from spacy<3.3.0,>=3.2.0->ru-core-news-md==3.2.0) (3.0.6)\n",
      "Requirement already satisfied: langcodes<4.0.0,>=3.2.0 in /opt/anaconda3/lib/python3.8/site-packages (from spacy<3.3.0,>=3.2.0->ru-core-news-md==3.2.0) (3.3.0)\n",
      "Requirement already satisfied: numpy>=1.15.0 in /opt/anaconda3/lib/python3.8/site-packages (from spacy<3.3.0,>=3.2.0->ru-core-news-md==3.2.0) (1.20.1)\n",
      "Requirement already satisfied: wasabi<1.1.0,>=0.8.1 in /opt/anaconda3/lib/python3.8/site-packages (from spacy<3.3.0,>=3.2.0->ru-core-news-md==3.2.0) (0.9.0)\n",
      "Requirement already satisfied: requests<3.0.0,>=2.13.0 in /opt/anaconda3/lib/python3.8/site-packages (from spacy<3.3.0,>=3.2.0->ru-core-news-md==3.2.0) (2.25.1)\n",
      "Requirement already satisfied: srsly<3.0.0,>=2.4.1 in /opt/anaconda3/lib/python3.8/site-packages (from spacy<3.3.0,>=3.2.0->ru-core-news-md==3.2.0) (2.4.2)\n",
      "Requirement already satisfied: typer<0.5.0,>=0.3.0 in /opt/anaconda3/lib/python3.8/site-packages (from spacy<3.3.0,>=3.2.0->ru-core-news-md==3.2.0) (0.4.0)\n",
      "Requirement already satisfied: cymem<2.1.0,>=2.0.2 in /opt/anaconda3/lib/python3.8/site-packages (from spacy<3.3.0,>=3.2.0->ru-core-news-md==3.2.0) (2.0.6)\n",
      "Requirement already satisfied: catalogue<2.1.0,>=2.0.6 in /opt/anaconda3/lib/python3.8/site-packages (from spacy<3.3.0,>=3.2.0->ru-core-news-md==3.2.0) (2.0.6)\n",
      "Requirement already satisfied: setuptools in /opt/anaconda3/lib/python3.8/site-packages (from spacy<3.3.0,>=3.2.0->ru-core-news-md==3.2.0) (52.0.0.post20210125)\n",
      "Requirement already satisfied: pyparsing>=2.0.2 in /opt/anaconda3/lib/python3.8/site-packages (from packaging>=20.0->spacy<3.3.0,>=3.2.0->ru-core-news-md==3.2.0) (2.4.7)\n",
      "Requirement already satisfied: smart-open<6.0.0,>=5.0.0 in /opt/anaconda3/lib/python3.8/site-packages (from pathy>=0.3.5->spacy<3.3.0,>=3.2.0->ru-core-news-md==3.2.0) (5.2.1)\n",
      "Requirement already satisfied: typing-extensions>=3.7.4.3 in /opt/anaconda3/lib/python3.8/site-packages (from pydantic!=1.8,!=1.8.1,<1.9.0,>=1.7.4->spacy<3.3.0,>=3.2.0->ru-core-news-md==3.2.0) (3.7.4.3)\n",
      "Requirement already satisfied: idna<3,>=2.5 in /opt/anaconda3/lib/python3.8/site-packages (from requests<3.0.0,>=2.13.0->spacy<3.3.0,>=3.2.0->ru-core-news-md==3.2.0) (2.10)\n",
      "Requirement already satisfied: urllib3<1.27,>=1.21.1 in /opt/anaconda3/lib/python3.8/site-packages (from requests<3.0.0,>=2.13.0->spacy<3.3.0,>=3.2.0->ru-core-news-md==3.2.0) (1.26.4)\n",
      "Requirement already satisfied: certifi>=2017.4.17 in /opt/anaconda3/lib/python3.8/site-packages (from requests<3.0.0,>=2.13.0->spacy<3.3.0,>=3.2.0->ru-core-news-md==3.2.0) (2020.12.5)\n",
      "Requirement already satisfied: chardet<5,>=3.0.2 in /opt/anaconda3/lib/python3.8/site-packages (from requests<3.0.0,>=2.13.0->spacy<3.3.0,>=3.2.0->ru-core-news-md==3.2.0) (4.0.0)\n",
      "Requirement already satisfied: click<9.0.0,>=7.1.1 in /opt/anaconda3/lib/python3.8/site-packages (from typer<0.5.0,>=0.3.0->spacy<3.3.0,>=3.2.0->ru-core-news-md==3.2.0) (7.1.2)\n",
      "Requirement already satisfied: MarkupSafe>=0.23 in /opt/anaconda3/lib/python3.8/site-packages (from jinja2->spacy<3.3.0,>=3.2.0->ru-core-news-md==3.2.0) (1.1.1)\n",
      "\u001b[38;5;2m✔ Download and installation successful\u001b[0m\n",
      "You can now load the package via spacy.load('ru_core_news_md')\n"
     ]
    }
   ],
   "source": [
    "!python -m spacy download ru_core_news_md"
   ]
  },
  {
   "cell_type": "code",
   "execution_count": 6,
   "id": "54fcbbb4",
   "metadata": {},
   "outputs": [],
   "source": [
    "russian_model = spacy.load('ru_core_news_md', disable=['ner', 'attribute_ruler'])"
   ]
  },
  {
   "cell_type": "code",
   "execution_count": 9,
   "id": "824311ea",
   "metadata": {},
   "outputs": [],
   "source": [
    "def preprocess(some_text):\n",
    "    \"\"\"принимает на вход строку текста, выдает список предложений\n",
    "    каждое предлоежние -- список токенов с пос тегами\"\"\"\n",
    "    output = []\n",
    "    parsed_text = russian_model(some_text)\n",
    "    one_sentence = []\n",
    "    for word in parsed_text:\n",
    "        lemma = word.lemma_\n",
    "        pos = word.pos_\n",
    "        token_with_pos_tag = word.lemma_+'_'+word.pos_\n",
    "        if word.is_sent_start or lemma == '.':  \n",
    "            output.append(one_sentence)\n",
    "            one_sentence = []\n",
    "        one_sentence.append(token_with_pos_tag)\n",
    "    return(output)"
   ]
  },
  {
   "cell_type": "code",
   "execution_count": 10,
   "id": "ca7595d4",
   "metadata": {},
   "outputs": [
    {
     "name": "stderr",
     "output_type": "stream",
     "text": [
      "100%|██████████| 98532/98532 [21:58<00:00, 74.71it/s]  \n"
     ]
    }
   ],
   "source": [
    "preprocessed_texts_list = []\n",
    "for line in tqdm(text_as_lines, position=0, leave=True): \n",
    "    preprocessed_texts_list.extend(preprocess(line))"
   ]
  },
  {
   "cell_type": "markdown",
   "id": "6d57c985",
   "metadata": {},
   "source": [
    "## 3. Обучаем модель *Dostoevsky.wordvectors*"
   ]
  },
  {
   "cell_type": "code",
   "execution_count": 12,
   "id": "8b4ab0e2",
   "metadata": {},
   "outputs": [
    {
     "name": "stdout",
     "output_type": "stream",
     "text": [
      "Requirement already satisfied: gensim in /opt/anaconda3/lib/python3.8/site-packages (4.2.0)\n",
      "Requirement already satisfied: smart-open>=1.8.1 in /opt/anaconda3/lib/python3.8/site-packages (from gensim) (5.2.1)\n",
      "Requirement already satisfied: numpy>=1.17.0 in /opt/anaconda3/lib/python3.8/site-packages (from gensim) (1.20.1)\n",
      "Requirement already satisfied: scipy>=0.18.1 in /opt/anaconda3/lib/python3.8/site-packages (from gensim) (1.6.2)\n"
     ]
    }
   ],
   "source": [
    "!pip install gensim"
   ]
  },
  {
   "cell_type": "code",
   "execution_count": 13,
   "id": "7d190a37",
   "metadata": {},
   "outputs": [],
   "source": [
    "import gensim"
   ]
  },
  {
   "cell_type": "code",
   "execution_count": 14,
   "id": "b389393f",
   "metadata": {},
   "outputs": [],
   "source": [
    "model = gensim.models.Word2Vec(preprocessed_texts_list)"
   ]
  },
  {
   "cell_type": "code",
   "execution_count": 15,
   "id": "36ac501f",
   "metadata": {},
   "outputs": [],
   "source": [
    "model.save(\"Dostoyevsky.wordvectors\")"
   ]
  },
  {
   "cell_type": "markdown",
   "id": "61f87bf7",
   "metadata": {},
   "source": [
    "## 4. Загружаем корпус 2:\n",
    "\n",
    "Корпус *Tolstoy* состоит из романов, рассказов и повестей Л.Н. Толстого и весит **20,4 МБ**"
   ]
  },
  {
   "cell_type": "code",
   "execution_count": 19,
   "id": "c4ad4ae8",
   "metadata": {},
   "outputs": [],
   "source": [
    "file = 'Tolstoy.txt' \n",
    "with open(file) as open_tolstoy:\n",
    "    text_lines = open_tolstoy.readlines()"
   ]
  },
  {
   "cell_type": "markdown",
   "id": "2e32d929",
   "metadata": {},
   "source": [
    "## 5. Предобрабатываем корпус 2:"
   ]
  },
  {
   "cell_type": "code",
   "execution_count": 21,
   "id": "bd1502e6",
   "metadata": {},
   "outputs": [
    {
     "name": "stderr",
     "output_type": "stream",
     "text": [
      "100%|██████████| 63471/63471 [18:41<00:00, 56.62it/s]  \n"
     ]
    }
   ],
   "source": [
    "preprocessed_text_list = []\n",
    "for line in tqdm(text_lines, position=0, leave=True): \n",
    "    preprocessed_text_list.extend(preprocess(line))"
   ]
  },
  {
   "cell_type": "markdown",
   "id": "972522f8",
   "metadata": {},
   "source": [
    "## 6. Обучаем модель *Tolstoy.wordvectors*"
   ]
  },
  {
   "cell_type": "code",
   "execution_count": 23,
   "id": "80f03a82",
   "metadata": {},
   "outputs": [],
   "source": [
    "model_tolstoy = gensim.models.Word2Vec(preprocessed_text_list)"
   ]
  },
  {
   "cell_type": "code",
   "execution_count": 24,
   "id": "4fbab610",
   "metadata": {},
   "outputs": [],
   "source": [
    "model_tolstoy.save(\"Tolstoy.wordvectors\")"
   ]
  },
  {
   "cell_type": "markdown",
   "id": "381c4528",
   "metadata": {},
   "source": [
    "## 7. Находим 3 слова с различными наборами семантических ассоциатов\n",
    "\n",
    "Слова: долг, война, грязь\n"
   ]
  },
  {
   "cell_type": "code",
   "execution_count": 67,
   "id": "a7bd54de",
   "metadata": {},
   "outputs": [
    {
     "data": {
      "text/plain": [
       "[('жалование_NOUN', 0.7930797338485718),\n",
       " ('убежище_NOUN', 0.789128303527832),\n",
       " ('обязанность_NOUN', 0.7847358584403992),\n",
       " ('вина_NOUN', 0.7717090845108032),\n",
       " ('вера_NOUN', 0.7705187797546387),\n",
       " ('обида_NOUN', 0.7536798119544983),\n",
       " ('обещание_NOUN', 0.753195583820343),\n",
       " ('согласие_NOUN', 0.749993622303009),\n",
       " ('милость_NOUN', 0.7487629055976868),\n",
       " ('обольщение_NOUN', 0.7377333045005798)]"
      ]
     },
     "execution_count": 67,
     "metadata": {},
     "output_type": "execute_result"
    }
   ],
   "source": [
    "model.wv.most_similar('долг_NOUN')"
   ]
  },
  {
   "cell_type": "code",
   "execution_count": 68,
   "id": "129bd0bf",
   "metadata": {},
   "outputs": [
    {
     "data": {
      "text/plain": [
       "[('обязанность_NOUN', 0.8071587681770325),\n",
       " ('семья_NOUN', 0.7922259569168091),\n",
       " ('честь_NOUN', 0.7502140402793884),\n",
       " ('имение_NOUN', 0.7403896450996399),\n",
       " ('отечество_NOUN', 0.7347727417945862),\n",
       " ('служба_NOUN', 0.7191548943519592),\n",
       " ('работа_NOUN', 0.7153307795524597),\n",
       " ('правило_NOUN', 0.7129880785942078),\n",
       " ('награда_NOUN', 0.7128452658653259),\n",
       " ('доход_NOUN', 0.7119536995887756)]"
      ]
     },
     "execution_count": 68,
     "metadata": {},
     "output_type": "execute_result"
    }
   ],
   "source": [
    "model_tolstoy.wv.most_similar('долг_NOUN')"
   ]
  },
  {
   "cell_type": "code",
   "execution_count": 69,
   "id": "08209b4a",
   "metadata": {},
   "outputs": [
    {
     "data": {
      "text/plain": [
       "[('социальный_ADJ', 0.8789650201797485),\n",
       " ('издание_NOUN', 0.8762425780296326),\n",
       " ('страна_NOUN', 0.8722735643386841),\n",
       " ('тургенев_PROPN', 0.8709366917610168),\n",
       " ('15_ADJ', 0.867161750793457),\n",
       " ('исследование_NOUN', 0.8640002012252808),\n",
       " ('буква_NOUN', 0.8629506826400757),\n",
       " ('выпуск_NOUN', 0.8597203493118286),\n",
       " ('народный_ADJ', 0.8572708964347839),\n",
       " ('реформа_NOUN', 0.8572072982788086)]"
      ]
     },
     "execution_count": 69,
     "metadata": {},
     "output_type": "execute_result"
    }
   ],
   "source": [
    "model.wv.most_similar('война_NOUN')"
   ]
  },
  {
   "cell_type": "code",
   "execution_count": 70,
   "id": "d8f56a5e",
   "metadata": {},
   "outputs": [
    {
     "data": {
      "text/plain": [
       "[('искусство_NOUN', 0.8145579695701599),\n",
       " ('убийство_NOUN', 0.8130857348442078),\n",
       " ('государство_NOUN', 0.8089040517807007),\n",
       " ('политический_ADJ', 0.8084136843681335),\n",
       " ('наука_NOUN', 0.8010005950927734),\n",
       " ('школа_NOUN', 0.7844389081001282),\n",
       " ('россия_PROPN', 0.7779257893562317),\n",
       " ('история_NOUN', 0.7709567546844482),\n",
       " ('шекспир_PROPN', 0.768816351890564),\n",
       " ('правительство_NOUN', 0.7594237327575684)]"
      ]
     },
     "execution_count": 70,
     "metadata": {},
     "output_type": "execute_result"
    }
   ],
   "source": [
    "model_tolstoy.wv.most_similar('война_NOUN')"
   ]
  },
  {
   "cell_type": "code",
   "execution_count": 71,
   "id": "2d8a29c5",
   "metadata": {},
   "outputs": [
    {
     "data": {
      "text/plain": [
       "[('кожа_NOUN', 0.85402911901474),\n",
       " ('вытекать_VERB', 0.8212291598320007),\n",
       " ('каморка_NOUN', 0.8165959715843201),\n",
       " ('среда_NOUN', 0.8136339783668518),\n",
       " ('поместье_NOUN', 0.8052793741226196),\n",
       " ('поле_NOUN', 0.8035864233970642),\n",
       " ('кабак_NOUN', 0.7977530360221863),\n",
       " ('семья_NOUN', 0.7964116930961609),\n",
       " ('конура_NOUN', 0.7960054278373718),\n",
       " ('куртка_NOUN', 0.795711874961853)]"
      ]
     },
     "execution_count": 71,
     "metadata": {},
     "output_type": "execute_result"
    }
   ],
   "source": [
    "model.wv.most_similar('грязь_NOUN')"
   ]
  },
  {
   "cell_type": "code",
   "execution_count": 72,
   "id": "4a8933ce",
   "metadata": {},
   "outputs": [
    {
     "data": {
      "text/plain": [
       "[('доска_NOUN', 0.8936564326286316),\n",
       " ('цепь_NOUN', 0.8852493166923523),\n",
       " ('дорожка_NOUN', 0.8817371129989624),\n",
       " ('аллея_NOUN', 0.8807147741317749),\n",
       " ('лощина_NOUN', 0.8739181160926819),\n",
       " ('река_NOUN', 0.8704800605773926),\n",
       " ('пруд_NOUN', 0.8704545497894287),\n",
       " ('низ_NOUN', 0.8653594255447388),\n",
       " ('туфля_NOUN', 0.8638460636138916),\n",
       " ('тропинка_NOUN', 0.8635293841362)]"
      ]
     },
     "execution_count": 72,
     "metadata": {},
     "output_type": "execute_result"
    }
   ],
   "source": [
    "model_tolstoy.wv.most_similar('грязь_NOUN')"
   ]
  },
  {
   "cell_type": "markdown",
   "id": "ac89fe19",
   "metadata": {},
   "source": [
    "## 8. Интерпретируем различия "
   ]
  },
  {
   "cell_type": "markdown",
   "id": "3c5b97ba",
   "metadata": {},
   "source": [
    "### 1) Долг"
   ]
  },
  {
   "cell_type": "markdown",
   "id": "a89d9793",
   "metadata": {},
   "source": [
    "В модели *Dostoevsky.wordvectors* слово *долг* имеет следующие семантические ассоциаты:\n",
    "\n",
    "* жалование_NOUN\n",
    "* убежище_NOUN\n",
    "* обязанность_NOUN\n",
    "* вина_NOUN\n",
    "* вера_NOUN\n",
    "* обида_NOUN\n",
    "* обещание_NOUN\n",
    "* согласие_NOUN\n",
    "* милость_NOUN\n",
    "* обольщение_NOUN"
   ]
  },
  {
   "cell_type": "markdown",
   "id": "fa6804a9",
   "metadata": {},
   "source": [
    "В то время как в модели *Tolstoy.wordvectors* это же слово имеет другие семантические ассоциаты:\n",
    "\n",
    "* обязанность_NOUN\n",
    "* семья_NOUN\n",
    "* честь_NOUN\n",
    "* имение_NOUN\n",
    "* отечество_NOUN\n",
    "* служба_NOUN\n",
    "* работа_NOUN\n",
    "* правило_NOUN\n",
    "* награда_NOUN\n",
    "* доход_NOUN"
   ]
  },
  {
   "cell_type": "markdown",
   "id": "810289e6",
   "metadata": {},
   "source": [
    "Мы видим, что в произведениях Достоевского слово *долг* чаще используется в значении денежной суммы, взятой взаймы и подлежащей возврату (обязанность, обещание, милость, жалование), тогда как в произведениях Толстого слово *долг* является моральным обязательством человека (служебный долг, семейный, долг перед Отечеством). "
   ]
  },
  {
   "cell_type": "markdown",
   "id": "3d321412",
   "metadata": {},
   "source": [
    "### 2) Война"
   ]
  },
  {
   "cell_type": "markdown",
   "id": "3582c077",
   "metadata": {},
   "source": [
    "В модели *Dostoevsky.wordvectors* слово *война* имеет следующие семантические ассоциаты:\n",
    "\n",
    "* социальный_ADJ\n",
    "* издание_NOUN\n",
    "* страна_NOUN\n",
    "* тургенев_PROPN\n",
    "* 15_ADJ\n",
    "* исследование_NOUN\n",
    "* буква_NOUN\n",
    "* выпуск_NOUN\n",
    "* народный_ADJ\n",
    "* реформа_NOUN"
   ]
  },
  {
   "cell_type": "markdown",
   "id": "08dbb6b5",
   "metadata": {},
   "source": [
    "В то время как в модели *Tolstoy.wordvectors* это же слово имеет другие семантические ассоциаты:\n",
    "\n",
    "* искусство_NOUN\n",
    "* убийство_NOUN\n",
    "* государство_NOUN\n",
    "* политический_ADJ\n",
    "* наука_NOUN\n",
    "* школа_NOUN\n",
    "* россия_PROPN\n",
    "* история_NOUN\n",
    "* шекспир_PROPN\n",
    "* правительство_NOUN"
   ]
  },
  {
   "cell_type": "markdown",
   "id": "a013480e",
   "metadata": {},
   "source": [
    "Под словом *война* в произведениях Достоевского подразумевается война с социальными проблемами, которые нуждались в незамедлительных реформах (социальный, издание, реформа, страна), тогда как Толстой успользует данное слово в значении конфликта между странами (убийство, государство, политический, россия, история, правительство)."
   ]
  },
  {
   "cell_type": "markdown",
   "id": "61f42095",
   "metadata": {},
   "source": [
    "### 3) Грязь"
   ]
  },
  {
   "cell_type": "markdown",
   "id": "a86f6496",
   "metadata": {},
   "source": [
    "В модели *Dostoevsky.wordvectors* слово *грязь* имеет следующие семантические ассоциаты:\n",
    "\n",
    "* кожа_NOUN\n",
    "* вытекать_VERB\n",
    "* каморка_NOUN\n",
    "* среда_NOUN\n",
    "* поместье_NOUN\n",
    "* поле_NOUN\n",
    "* кабак_NOUN\n",
    "* семья_NOUN\n",
    "* конура_NOUN\n",
    "* куртка_NOUN"
   ]
  },
  {
   "cell_type": "markdown",
   "id": "ff7e898e",
   "metadata": {},
   "source": [
    "В то время как в модели *Tolstoy.wordvectors* это же слово имеет другие семантические ассоциаты:\n",
    "\n",
    "* доска_NOUN\n",
    "* цепь_NOUN\n",
    "* дорожка_NOUN\n",
    "* аллея_NOUN\n",
    "* лощина_NOUN\n",
    "* река_NOUN\n",
    "* пруд_NOUN\n",
    "* низ_NOUN\n",
    "* туфля_NOUN\n",
    "* тропинка_NOUN"
   ]
  },
  {
   "cell_type": "markdown",
   "id": "d50f8a7a",
   "metadata": {},
   "source": [
    "В произведениях Достоевского слово *грязь* ассоциируется с помещениями и предметами, связанными с человеком и его повседневной жизнью (каморка, поместье, кабак, конура, куртка, кожа), тогда как в произведениях Толстого слово *грязь* связано с природой, то есть с почвой (дорожка, аллея, лощина, река, пруд, тропинка). "
   ]
  }
 ],
 "metadata": {
  "kernelspec": {
   "display_name": "Python 3",
   "language": "python",
   "name": "python3"
  },
  "language_info": {
   "codemirror_mode": {
    "name": "ipython",
    "version": 3
   },
   "file_extension": ".py",
   "mimetype": "text/x-python",
   "name": "python",
   "nbconvert_exporter": "python",
   "pygments_lexer": "ipython3",
   "version": "3.8.8"
  }
 },
 "nbformat": 4,
 "nbformat_minor": 5
}
